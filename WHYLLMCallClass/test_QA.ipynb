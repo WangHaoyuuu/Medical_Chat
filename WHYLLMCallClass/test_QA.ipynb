{
 "cells": [
  {
   "cell_type": "code",
   "execution_count": 4,
   "metadata": {},
   "outputs": [
    {
     "name": "stderr",
     "output_type": "stream",
     "text": [
      "/opt/conda/envs/MChat/lib/python3.9/site-packages/tqdm/auto.py:21: TqdmWarning: IProgress not found. Please update jupyter and ipywidgets. See https://ipywidgets.readthedocs.io/en/stable/user_install.html\n",
      "  from .autonotebook import tqdm as notebook_tqdm\n"
     ]
    },
    {
     "name": "stdout",
     "output_type": "stream",
     "text": [
      "<class 'langchain_community.vectorstores.chroma.Chroma'>\n",
      "向量库中存储的数量：10\n",
      "检索到的内容数：3\n",
      "检索到的第0个内容: \n",
      " 目录21一、流行病学233二、病因233三、临床表现234四、病程与预后 236五、诊断与鉴别诊断236六、预防与治疗237第三节孤独症谱系障碍239一、概述239二、流行病学239三、临床表现239四、诊断与鉴别诊断241五、病程及预后 242六、干预和治疗242第四节注意缺陷多动性障碍243一、流行病学244二、病因和病理机制244三、临床表现244四、诊断与鉴别诊断245五、病程和预后246六、治疗和干预247第五节抽动障碍 249一、流行病学 249二、病因和病理机制249三、临床表现249四、诊断与鉴别诊断 250五、病程与预后251六、治疗 251第六节特定性学习障碍252第十三章精神分裂症 256第一节概述 256第二节病因与发病机制257一、遗传因素257二、神经病理学及大脑结构的异常 259三、神经生化方面的异常261四、神经发育不良假说261五、子宫内感染与产伤 262六、社会心理因素263第三节临床表现263第四节诊断与鉴别诊断 264一、诊断标准264二、鉴别诊断 266三、实验室检查 266\n",
      "***************************************************\n",
      "检索到的第1个内容: \n",
      " 24■目录四、病程和预后 331五、病因和发病机制研究331六、治疗331七、预防和康复 331第四节社交焦虑障碍331一、流行病学 332二、临床表现 332三、诊断与鉴别诊断 332四、病程和预后333五、病因和发病机制研究 333六、治疗 333七、预防和康复334第五节特定恐惧症334一、流行病学 335二、临床表现 335三、诊断与鉴别诊断 335四、病程和预后335五、病因和发病机制研究 336六、治疗 336七、预防和康复336第六节广泛性焦虑障碍337一、流行病学 337二、临床表现 337三、诊断与鉴别诊断337四、病程和预后338五、病因和发病机制研究339六、治疗 339七、预防和康复340第七节分离焦虑障碍340一、流行病学 340二、临床表现341三、诊断与鉴别诊断 341四、病程和预后 341五、病因和发病机制研究 342六、治疗 342七、预防和康复 342第十八章强迫症 344第一节概述 344第二节病因与发病机制345一、生物学因素 345二、社会心理因素346第三节临床表现 348\n",
      "***************************************************\n",
      "检索到的第2个内容: \n",
      " 193一、概念193二、病理生理机制 194三、临床表现的共同特点194四、常见临床表现 194五、诊断 194六、治疗原则194第二节躯体感染所致精神障碍195一、流行性感冒所致精种障碍 195二、肺炎所致精神障碍195三、伤寒所致精神障碍 196四、病毒性肝炎所致精神障碍 196五、治疗原则196第三节内脏器官疾病所致精神障碍196一、肺脑综合征的临床表现196二、心脏疾病所致精神障碍的临床表现197三、肝脏疾病所致精神障碍的临床表现197四、肾脏疾病所致精神障碍的临床表现198五、内脏器官疾病所致精神障碍的诊断 198六、内脏器官疾病所致精神障碍治疗 198\n",
      "***************************************************\n"
     ]
    }
   ],
   "source": [
    "from langchain_community.vectorstores import Chroma\n",
    "from langchain.embeddings.huggingface import HuggingFaceEmbeddings\n",
    "from langchain.vectorstores.chroma import Chroma\n",
    "\n",
    "embedding = HuggingFaceEmbeddings(model_name=\"moka-ai/m3e-base\")\n",
    "persist_directory = '/workspaces/Medical_Chat/WHYembedding/精神科/vector_db'\n",
    "\n",
    "def init_db(persist_path = None, \n",
    "            embedding = None):\n",
    "    vectordb = Chroma(\n",
    "        persist_directory=persist_path,\n",
    "        embedding_function=embedding\n",
    "    )\n",
    "    # vectordb.persist() \n",
    "    vectordb.persist()\n",
    "    return vectordb\n",
    "\n",
    "# create the vectordb object\n",
    "vectordb = init_db(persist_path=persist_directory, embedding=embedding) \n",
    "print(type(vectordb))\n",
    "print(f\"向量库中存储的数量：{vectordb._collection.count()}\")\n",
    "question = \"临床?\"\n",
    "docs = vectordb.similarity_search(question, k=3)\n",
    "print(f\"检索到的内容数：{len(docs)}\")\n",
    "for i, doc in enumerate(docs):\n",
    "    print(f\"检索到的第{i}个内容: \\n {doc.page_content}\", end=\"\\n***************************************************\\n\")\n"
   ]
  },
  {
   "cell_type": "markdown",
   "metadata": {},
   "source": [
    "### 创建一个llm"
   ]
  },
  {
   "cell_type": "code",
   "execution_count": 2,
   "metadata": {},
   "outputs": [
    {
     "name": "stdout",
     "output_type": "stream",
     "text": [
      "你好！我是一个人工智能助手，随时准备帮助你解答问题或提供信息。请问有什么我可以帮助你的？\n"
     ]
    }
   ],
   "source": [
    "from test_qianfan_llm import QianFanLLM\n",
    "llm = QianFanLLM(model_name=\"Yi-34B-Chat\", \n",
    "                   api_key=\"HnngI6IOybeRJyLgvtowIRUt\", \n",
    "                   api_secret=\"Vx7tFMIdGDrouCsyBRuChmbNBHhlMM2e\")\n",
    "result = llm.invoke(\"你好\")\n",
    "print(result)"
   ]
  },
  {
   "cell_type": "code",
   "execution_count": 5,
   "metadata": {},
   "outputs": [],
   "source": [
    "from langchain.prompts import PromptTemplate\n",
    "\n",
    "template = \"\"\"使用以下上下文来回答最后的问题。如果你不知道答案，就说你不知道，不要试图编造答\n",
    "案。最多使用三句话。尽量使答案简明扼要。在回答的最后说“谢谢你的提问！”。\n",
    "{context}\n",
    "问题: {question}\n",
    "\"\"\"\n",
    "\n",
    "QA_CHAIN_PROMPT = PromptTemplate(input_variables=[\"context\",\"question\"],\n",
    "                                 template=template)\n",
    "from langchain.chains import RetrievalQA\n",
    "\n",
    "qa_chain = RetrievalQA.from_chain_type(llm,\n",
    "                                       retriever=vectordb.as_retriever(),\n",
    "                                       return_source_documents=False,\n",
    "                                       chain_type_kwargs={\"prompt\":QA_CHAIN_PROMPT})\n"
   ]
  },
  {
   "cell_type": "code",
   "execution_count": 47,
   "metadata": {},
   "outputs": [
    {
     "name": "stdout",
     "output_type": "stream",
     "text": [
      "大模型+知识库后回答 question_1 的结果：\n",
      "精神科疾病是指一组影响心理和行为的疾病，它们可以导致情绪、思维、行为和社交功能的异常。精神科疾病包括抑郁症、焦虑症、精神分裂症、双相情感障碍、强迫症、创伤后应激障碍等。这些疾病可能由遗传、生物化学、心理社会因素等多种原因引起，通常需要专业的心理治疗、药物治疗或两者结合来管理。精神科疾病的严重程度可以从轻微的困扰到严重的残疾不等，它们可能对患者的日常生活和福祉产生显著影响。谢谢你的提问！\n"
     ]
    }
   ],
   "source": [
    "question_1 = \"什么是精神科疾病\"\n",
    "result = qa_chain({\"query\": question_1})\n",
    "print(\"大模型+知识库后回答 question_1 的结果：\")\n",
    "print(result[\"result\"])"
   ]
  },
  {
   "cell_type": "code",
   "execution_count": 48,
   "metadata": {},
   "outputs": [
    {
     "data": {
      "text/plain": [
       "'精神科疾病是指一组影响个体情绪、思维、行为和心理状态的疾病。这些疾病可能包括抑郁症、焦虑症、双相情感障碍、精神分裂症、强迫症、创伤后应激障碍等。精神科疾病的症状和严重程度可以有很大差异，从轻微的困扰到严重的功能障碍不等。\\n\\n精神科疾病的诊断通常需要由经过专业培训的精神科医生进行，他们通过病史、心理评估和有时包括脑部影像学检查或实验室检查在内的医学检查来做出诊断。治疗方法可能包括药物治疗、心理治疗、支持性治疗和社会干预。\\n\\n精神科疾病是一个广泛的领域，它不仅关注疾病的治疗，还包括预防、康复和提高患者生活质量的努力。随着对大脑和心理健康的了解不断深入，精神科领域也在不断发展新的治疗方法和更有效的干预措施。'"
      ]
     },
     "execution_count": 48,
     "metadata": {},
     "output_type": "execute_result"
    }
   ],
   "source": [
    "prompt_template = \"\"\"请回答下列问题:\n",
    "                            {}\"\"\".format(question_1)\n",
    "\n",
    "### 基于大模型的问答\n",
    "llm.invoke(prompt_template)"
   ]
  },
  {
   "cell_type": "markdown",
   "metadata": {},
   "source": [
    "# 历史对话功能"
   ]
  },
  {
   "cell_type": "code",
   "execution_count": 49,
   "metadata": {},
   "outputs": [
    {
     "name": "stdout",
     "output_type": "stream",
     "text": [
      "精神科疾病是指一组影响心理和行为的疾病，它们可以导致个体在情感、思维、行为、认知和社会功能等方面出现异常。精神科疾病包括多种类型，如抑郁症、焦虑症、精神分裂症、双相情感障碍、强迫症、创伤后应激障碍等。这些疾病可能由遗传、生物化学、心理社会因素等多种原因引起，并且可以对个体的日常生活和福祉产生显著影响。精神科疾病的诊断通常需要由经过专业训练的精神科医生进行，他们通过详细的病史、心理评估和必要的辅助检查来确定患者的具体诊断。治疗方法包括药物治疗、心理治疗、社会支持和其他康复措施。\n",
      "根据您提供的信息，精神科疾病可以分为以下几类：\n",
      "\n",
      "1. 器质性精神障碍（Organic Mental Disorders）：这类疾病与大脑或身体的生理变化有关，通常由脑损伤、感染、营养不良或其他身体疾病引起。\n",
      "\n",
      "2. 使用精神活性物质所致的精神或行为障碍（Substance-Induced Disorders）：这类障碍是由于使用酒精、药物或其他精神活性物质引起的。\n",
      "\n",
      "3. 精神分裂症、分裂型障碍和妄想性障碍（Schizophrenia, Schizotypal, and Delusional Disorders）：这些疾病通常涉及严重的妄想和幻觉，以及思维、情感和行为的紊乱。\n",
      "\n",
      "4. 心境（情感）障碍（Mood Disorders）：这类障碍包括抑郁症、躁狂症、双相情感障碍等，涉及情绪的极端波动。\n",
      "\n",
      "5. 神经症性、应激相关的及躯体形式障碍（Neurotic, Stress-Related, and Somatic Symptom Disorders）：这类障碍包括焦虑症、创伤后应激障碍、躯体症状障碍等，通常与压力和心理因素有关。\n",
      "\n",
      "6. 伴有生理素乱及驱体因素的行为综合征（Disorders with Psychophysiological and Somatic Factors）：这类障碍涉及身体症状和心理因素的相互作用，如进食障碍、睡眠障碍等。\n",
      "\n",
      "7. 成人人格与行为障碍（Personality and Behavioral Disorders in Adults）：这类障碍包括边缘型人格障碍、自恋型人格障碍等，涉及长期的性格特征和行为模式。\n",
      "\n",
      "8. 精神发育迟滞（Mental Retardation）：现在通常称为智力残疾，是指在发育期间由于遗传、环境或医疗原因导致的智力功能显著低于平均水平，并伴有适应性行为缺陷。\n",
      "\n",
      "9. 心理发育障碍（Psychological Developmental Disorders）：这类障碍涉及儿童和青少年的心理发展问题，如自闭症谱系障碍、注意缺陷多动障碍等。\n",
      "\n",
      "10. 通常发生于童年与少年期的行为与情绪障碍（Behavioral and Emotional Disorders Usually First Evident in Childhood and Adolescence）：这类障碍包括儿童期的焦虑、抑郁、行为问题等。\n",
      "\n",
      "请注意，上述分类基于ICD-10（国际疾病分类第十版），而最新的版本是ICD-11（国际疾病分类第十一版），于2018年发布。ICD-11中的一些分类可能会有所不同。此外，精神障碍的诊断是一个复杂的过程，通常需要由经过专业培训的精神科医生进行。\n"
     ]
    }
   ],
   "source": [
    "from langchain.memory import ConversationBufferMemory\n",
    "\n",
    "memory = ConversationBufferMemory(\n",
    "    memory_key=\"chat_history\",  # 与 prompt 的输入变量保持一致。\n",
    "    return_messages=True  # 将以消息列表的形式返回聊天记录，而不是单个字符串\n",
    ")\n",
    "\n",
    "from langchain.chains import ConversationalRetrievalChain\n",
    "\n",
    "retriever=vectordb.as_retriever()\n",
    "\n",
    "qa = ConversationalRetrievalChain.from_llm(\n",
    "    llm,\n",
    "    retriever=retriever,\n",
    "    memory=memory,\n",
    ")\n",
    "question = \"什么是精神科疾病\"\n",
    "result = qa({\"question\": question})\n",
    "print(result['answer'])\n",
    "\n",
    "question = \"精神科疾病有哪些\"\n",
    "result = qa({\"question\": question})\n",
    "print(result['answer'])"
   ]
  },
  {
   "cell_type": "code",
   "execution_count": null,
   "metadata": {},
   "outputs": [],
   "source": []
  }
 ],
 "metadata": {
  "kernelspec": {
   "display_name": "MChat",
   "language": "python",
   "name": "python3"
  },
  "language_info": {
   "codemirror_mode": {
    "name": "ipython",
    "version": 3
   },
   "file_extension": ".py",
   "mimetype": "text/x-python",
   "name": "python",
   "nbconvert_exporter": "python",
   "pygments_lexer": "ipython3",
   "version": "3.9.19"
  }
 },
 "nbformat": 4,
 "nbformat_minor": 2
}
